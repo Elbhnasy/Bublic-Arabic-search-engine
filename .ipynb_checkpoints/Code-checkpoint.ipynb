{
 "cells": [
  {
   "cell_type": "code",
   "execution_count": 1,
   "metadata": {
    "_cell_guid": "b1076dfc-b9ad-4769-8c92-a6c4dae69d19",
    "_uuid": "8f2839f25d086af736a60e9eeb907d3b93b6e0e5",
    "execution": {
     "iopub.execute_input": "2023-04-10T23:52:46.090252Z",
     "iopub.status.busy": "2023-04-10T23:52:46.088344Z",
     "iopub.status.idle": "2023-04-10T23:52:47.991708Z",
     "shell.execute_reply": "2023-04-10T23:52:47.990572Z",
     "shell.execute_reply.started": "2023-04-10T23:52:46.090217Z"
    },
    "id": "wAsMhH_-Ozzh",
    "outputId": "275d5f35-2551-4c0a-85c9-99fcaa3bee31"
   },
   "outputs": [
    {
     "name": "stdout",
     "output_type": "stream",
     "text": [
      "[nltk_data] Downloading package stopwords to /usr/share/nltk_data...\n",
      "[nltk_data]   Package stopwords is already up-to-date!\n"
     ]
    }
   ],
   "source": [
    "import warnings\n",
    "warnings.filterwarnings(\"ignore\")\n",
    "\n",
    "import os\n",
    "import random\n",
    "import numpy as np\n",
    "from scipy.sparse import csr_matrix\n",
    "import pandas as pd\n",
    "import json\n",
    "\n",
    "from wordcloud import WordCloud\n",
    "import matplotlib.pyplot as plt\n",
    "import seaborn as sns \n",
    "import matplotlib.cm as cm\n",
    "from matplotlib import rcParams\n",
    "from prettytable import PrettyTable\n",
    "\n",
    "import nltk \n",
    "nltk.download('stopwords')\n",
    "from nltk.corpus import stopwords\n",
    "from nltk.tokenize import word_tokenize\n",
    "from nltk.tokenize import RegexpTokenizer\n",
    "from nltk.stem.isri import ISRIStemmer\n",
    "from collections import Counter \n",
    "import itertools\n",
    "import re\n",
    "import string\n",
    "\n",
    "from sklearn.feature_extraction.text import TfidfVectorizer\n",
    "from sklearn import preprocessing\n",
    "from sklearn.model_selection import train_test_split\n",
    "\n",
    "from sklearn.pipeline import Pipeline\n",
    "from sklearn.svm import SVC\n",
    "from sklearn.naive_bayes import GaussianNB\n",
    "\n",
    "from sklearn.calibration import CalibratedClassifierCV\n",
    "from sklearn.feature_selection import SelectKBest\n",
    "from sklearn.model_selection import GridSearchCV\n",
    "\n",
    "from sklearn.metrics import classification_report\n",
    "from sklearn.metrics import confusion_matrix\n",
    "from sklearn.metrics import accuracy_score, precision_recall_fscore_support\n",
    "\n",
    "from joblib import dump, load"
   ]
  },
  {
   "cell_type": "code",
   "execution_count": 2,
   "metadata": {
    "execution": {
     "iopub.execute_input": "2023-04-10T23:52:47.994826Z",
     "iopub.status.busy": "2023-04-10T23:52:47.994086Z",
     "iopub.status.idle": "2023-04-10T23:52:48.000545Z",
     "shell.execute_reply": "2023-04-10T23:52:47.998986Z",
     "shell.execute_reply.started": "2023-04-10T23:52:47.994768Z"
    }
   },
   "outputs": [],
   "source": [
    "import re\n",
    "from nltk.stem.snowball import SnowballStemmer\n",
    "from nltk.corpus import stopwords\n",
    "import pandas as pd"
   ]
  },
  {
   "cell_type": "code",
   "execution_count": 3,
   "metadata": {
    "execution": {
     "iopub.execute_input": "2023-04-10T23:52:48.002964Z",
     "iopub.status.busy": "2023-04-10T23:52:48.001938Z",
     "iopub.status.idle": "2023-04-10T23:52:55.249891Z",
     "shell.execute_reply": "2023-04-10T23:52:55.248828Z",
     "shell.execute_reply.started": "2023-04-10T23:52:48.002924Z"
    },
    "id": "LHL10lI6Ozzz",
    "outputId": "c280cb26-019b-4feb-b62a-c59c6f2f015f"
   },
   "outputs": [
    {
     "data": {
      "text/html": [
       "<div>\n",
       "<style scoped>\n",
       "    .dataframe tbody tr th:only-of-type {\n",
       "        vertical-align: middle;\n",
       "    }\n",
       "\n",
       "    .dataframe tbody tr th {\n",
       "        vertical-align: top;\n",
       "    }\n",
       "\n",
       "    .dataframe thead th {\n",
       "        text-align: right;\n",
       "    }\n",
       "</style>\n",
       "<table border=\"1\" class=\"dataframe\">\n",
       "  <thead>\n",
       "    <tr style=\"text-align: right;\">\n",
       "      <th></th>\n",
       "      <th>text</th>\n",
       "      <th>targe</th>\n",
       "    </tr>\n",
       "  </thead>\n",
       "  <tbody>\n",
       "    <tr>\n",
       "      <th>0</th>\n",
       "      <td>بين أستوديوهات ورزازات وصحراء مرزوكة وآثار ولي...</td>\n",
       "      <td>0</td>\n",
       "    </tr>\n",
       "    <tr>\n",
       "      <th>1</th>\n",
       "      <td>قررت النجمة الأمريكية أوبرا وينفري ألا يقتصر ع...</td>\n",
       "      <td>0</td>\n",
       "    </tr>\n",
       "    <tr>\n",
       "      <th>2</th>\n",
       "      <td>أخبارنا المغربية الوزاني تصوير الشملالي ألهب ا...</td>\n",
       "      <td>0</td>\n",
       "    </tr>\n",
       "    <tr>\n",
       "      <th>3</th>\n",
       "      <td>اخبارنا المغربية قال ابراهيم الراشدي محامي سعد...</td>\n",
       "      <td>0</td>\n",
       "    </tr>\n",
       "    <tr>\n",
       "      <th>4</th>\n",
       "      <td>تزال صناعة الجلود في المغرب تتبع الطريقة التقل...</td>\n",
       "      <td>0</td>\n",
       "    </tr>\n",
       "    <tr>\n",
       "      <th>...</th>\n",
       "      <td>...</td>\n",
       "      <td>...</td>\n",
       "    </tr>\n",
       "    <tr>\n",
       "      <th>111723</th>\n",
       "      <td>اللاعب تأخر في العودة إلى التداريب والمدرب غاض...</td>\n",
       "      <td>4</td>\n",
       "    </tr>\n",
       "    <tr>\n",
       "      <th>111724</th>\n",
       "      <td>المشرف العام لحسنية أكادير قال إنه سيغادر الفر...</td>\n",
       "      <td>4</td>\n",
       "    </tr>\n",
       "    <tr>\n",
       "      <th>111725</th>\n",
       "      <td>نسب إليه نتائج الوداد وصحوة الرجاء وآخر صيحاته...</td>\n",
       "      <td>4</td>\n",
       "    </tr>\n",
       "    <tr>\n",
       "      <th>111726</th>\n",
       "      <td>ستحتضن الرباط في الفترة مابين يوليوز المقبل دو...</td>\n",
       "      <td>4</td>\n",
       "    </tr>\n",
       "    <tr>\n",
       "      <th>111727</th>\n",
       "      <td>رضخ أحمد أهمو رئيس أمل تيزنيت لكرة القدم لضغوط...</td>\n",
       "      <td>4</td>\n",
       "    </tr>\n",
       "  </tbody>\n",
       "</table>\n",
       "<p>111728 rows × 2 columns</p>\n",
       "</div>"
      ],
      "text/plain": [
       "                                                     text  targe\n",
       "0       بين أستوديوهات ورزازات وصحراء مرزوكة وآثار ولي...      0\n",
       "1       قررت النجمة الأمريكية أوبرا وينفري ألا يقتصر ع...      0\n",
       "2       أخبارنا المغربية الوزاني تصوير الشملالي ألهب ا...      0\n",
       "3       اخبارنا المغربية قال ابراهيم الراشدي محامي سعد...      0\n",
       "4       تزال صناعة الجلود في المغرب تتبع الطريقة التقل...      0\n",
       "...                                                   ...    ...\n",
       "111723  اللاعب تأخر في العودة إلى التداريب والمدرب غاض...      4\n",
       "111724  المشرف العام لحسنية أكادير قال إنه سيغادر الفر...      4\n",
       "111725  نسب إليه نتائج الوداد وصحوة الرجاء وآخر صيحاته...      4\n",
       "111726  ستحتضن الرباط في الفترة مابين يوليوز المقبل دو...      4\n",
       "111727  رضخ أحمد أهمو رئيس أمل تيزنيت لكرة القدم لضغوط...      4\n",
       "\n",
       "[111728 rows x 2 columns]"
      ]
     },
     "execution_count": 3,
     "metadata": {},
     "output_type": "execute_result"
    }
   ],
   "source": [
    "df = pd.read_csv(\"/kaggle/input/arabic-classification/arabic_dataset_classifiction.csv/arabic_dataset_classifiction.csv\")\n",
    "\n"
   ]
  },
  {
   "cell_type": "code",
   "execution_count": 4,
   "metadata": {
    "execution": {
     "iopub.execute_input": "2023-04-10T23:52:55.253061Z",
     "iopub.status.busy": "2023-04-10T23:52:55.252584Z",
     "iopub.status.idle": "2023-04-10T23:52:55.266265Z",
     "shell.execute_reply": "2023-04-10T23:52:55.265301Z",
     "shell.execute_reply.started": "2023-04-10T23:52:55.253022Z"
    }
   },
   "outputs": [],
   "source": [
    "df = df.drop('targe', axis=1)"
   ]
  },
  {
   "cell_type": "code",
   "execution_count": 10,
   "metadata": {
    "execution": {
     "iopub.execute_input": "2023-04-10T23:52:55.322887Z",
     "iopub.status.busy": "2023-04-10T23:52:55.321983Z",
     "iopub.status.idle": "2023-04-10T23:52:55.360341Z",
     "shell.execute_reply": "2023-04-10T23:52:55.359319Z",
     "shell.execute_reply.started": "2023-04-10T23:52:55.322848Z"
    },
    "id": "CK68dmqfOzz2",
    "outputId": "dfd82b5c-94a8-4fb0-cc75-d16bed1ffee6"
   },
   "outputs": [
    {
     "name": "stdout",
     "output_type": "stream",
     "text": [
      "2939\n",
      "0\n"
     ]
    }
   ],
   "source": [
    "print(np.sum(df.isnull().any(axis=1)))\n",
    "\n",
    "clean_df = df.dropna()\n",
    "print(np.sum(clean_df.isnull().any(axis=1)))"
   ]
  },
  {
   "cell_type": "code",
   "execution_count": 11,
   "metadata": {
    "execution": {
     "iopub.execute_input": "2023-04-10T23:52:55.362421Z",
     "iopub.status.busy": "2023-04-10T23:52:55.361644Z",
     "iopub.status.idle": "2023-04-10T23:52:55.378124Z",
     "shell.execute_reply": "2023-04-10T23:52:55.377155Z",
     "shell.execute_reply.started": "2023-04-10T23:52:55.362385Z"
    }
   },
   "outputs": [
    {
     "name": "stdout",
     "output_type": "stream",
     "text": [
      "text    True\n",
      "dtype: bool\n"
     ]
    }
   ],
   "source": [
    "print (df.notnull().any(axis = 0))"
   ]
  },
  {
   "cell_type": "code",
   "execution_count": 12,
   "metadata": {
    "execution": {
     "iopub.execute_input": "2023-04-10T23:52:55.380926Z",
     "iopub.status.busy": "2023-04-10T23:52:55.380630Z",
     "iopub.status.idle": "2023-04-10T23:52:56.392505Z",
     "shell.execute_reply": "2023-04-10T23:52:56.391370Z",
     "shell.execute_reply.started": "2023-04-10T23:52:55.380900Z"
    },
    "id": "KYM3WbAvOzz8",
    "outputId": "31d594cb-ebd8-4951-c859-bac0e5db6216"
   },
   "outputs": [
    {
     "data": {
      "text/html": [
       "<div>\n",
       "<style scoped>\n",
       "    .dataframe tbody tr th:only-of-type {\n",
       "        vertical-align: middle;\n",
       "    }\n",
       "\n",
       "    .dataframe tbody tr th {\n",
       "        vertical-align: top;\n",
       "    }\n",
       "\n",
       "    .dataframe thead th {\n",
       "        text-align: right;\n",
       "    }\n",
       "</style>\n",
       "<table border=\"1\" class=\"dataframe\">\n",
       "  <thead>\n",
       "    <tr style=\"text-align: right;\">\n",
       "      <th></th>\n",
       "      <th>text</th>\n",
       "    </tr>\n",
       "  </thead>\n",
       "  <tbody>\n",
       "    <tr>\n",
       "      <th>0</th>\n",
       "      <td>بين أستوديوهات ورزازات وصحراء مرزوكة وآثار ولي...</td>\n",
       "    </tr>\n",
       "    <tr>\n",
       "      <th>1</th>\n",
       "      <td>قررت النجمة الأمريكية أوبرا وينفري ألا يقتصر ع...</td>\n",
       "    </tr>\n",
       "    <tr>\n",
       "      <th>2</th>\n",
       "      <td>أخبارنا المغربية الوزاني تصوير الشملالي ألهب ا...</td>\n",
       "    </tr>\n",
       "    <tr>\n",
       "      <th>3</th>\n",
       "      <td>اخبارنا المغربية قال ابراهيم الراشدي محامي سعد...</td>\n",
       "    </tr>\n",
       "    <tr>\n",
       "      <th>4</th>\n",
       "      <td>تزال صناعة الجلود في المغرب تتبع الطريقة التقل...</td>\n",
       "    </tr>\n",
       "    <tr>\n",
       "      <th>...</th>\n",
       "      <td>...</td>\n",
       "    </tr>\n",
       "    <tr>\n",
       "      <th>111723</th>\n",
       "      <td>اللاعب تأخر في العودة إلى التداريب والمدرب غاض...</td>\n",
       "    </tr>\n",
       "    <tr>\n",
       "      <th>111724</th>\n",
       "      <td>المشرف العام لحسنية أكادير قال إنه سيغادر الفر...</td>\n",
       "    </tr>\n",
       "    <tr>\n",
       "      <th>111725</th>\n",
       "      <td>نسب إليه نتائج الوداد وصحوة الرجاء وآخر صيحاته...</td>\n",
       "    </tr>\n",
       "    <tr>\n",
       "      <th>111726</th>\n",
       "      <td>ستحتضن الرباط في الفترة مابين يوليوز المقبل دو...</td>\n",
       "    </tr>\n",
       "    <tr>\n",
       "      <th>111727</th>\n",
       "      <td>رضخ أحمد أهمو رئيس أمل تيزنيت لكرة القدم لضغوط...</td>\n",
       "    </tr>\n",
       "  </tbody>\n",
       "</table>\n",
       "<p>108789 rows × 1 columns</p>\n",
       "</div>"
      ],
      "text/plain": [
       "                                                     text\n",
       "0       بين أستوديوهات ورزازات وصحراء مرزوكة وآثار ولي...\n",
       "1       قررت النجمة الأمريكية أوبرا وينفري ألا يقتصر ع...\n",
       "2       أخبارنا المغربية الوزاني تصوير الشملالي ألهب ا...\n",
       "3       اخبارنا المغربية قال ابراهيم الراشدي محامي سعد...\n",
       "4       تزال صناعة الجلود في المغرب تتبع الطريقة التقل...\n",
       "...                                                   ...\n",
       "111723  اللاعب تأخر في العودة إلى التداريب والمدرب غاض...\n",
       "111724  المشرف العام لحسنية أكادير قال إنه سيغادر الفر...\n",
       "111725  نسب إليه نتائج الوداد وصحوة الرجاء وآخر صيحاته...\n",
       "111726  ستحتضن الرباط في الفترة مابين يوليوز المقبل دو...\n",
       "111727  رضخ أحمد أهمو رئيس أمل تيزنيت لكرة القدم لضغوط...\n",
       "\n",
       "[108789 rows x 1 columns]"
      ]
     },
     "execution_count": 12,
     "metadata": {},
     "output_type": "execute_result"
    }
   ],
   "source": [
    "def remove_hashtag(df, col = 'text'):\n",
    "    for letter in r'#.][!XR':\n",
    "        df[col] = df[col].astype(str).str.replace(letter,'', regex=True)\n",
    "    \n",
    "\n",
    "        \n",
    "remove_hashtag(clean_df)\n",
    "clean_df"
   ]
  },
  {
   "cell_type": "markdown",
   "metadata": {
    "id": "NUqrpdohOz0B"
   },
   "source": [
    "# Punctuation tretment"
   ]
  },
  {
   "cell_type": "code",
   "execution_count": 13,
   "metadata": {
    "execution": {
     "iopub.execute_input": "2023-04-10T23:52:56.394558Z",
     "iopub.status.busy": "2023-04-10T23:52:56.394113Z",
     "iopub.status.idle": "2023-04-10T23:52:56.400857Z",
     "shell.execute_reply": "2023-04-10T23:52:56.399806Z",
     "shell.execute_reply.started": "2023-04-10T23:52:56.394519Z"
    },
    "id": "AZZslpz8Oz0D"
   },
   "outputs": [],
   "source": [
    "arabic_punctuations = '''`÷×؛<>_()*&^%][ـ،/:\"؟.,'{}~¦+|!”…“–ـ'''\n",
    "english_punctuations = string.punctuation\n",
    "punctuations_list = arabic_punctuations + english_punctuations\n",
    "\n",
    "def remove_punctuations(text):\n",
    "    translator = str.maketrans('', '', punctuations_list)\n",
    "    return text.translate(translator)"
   ]
  },
  {
   "cell_type": "markdown",
   "metadata": {
    "id": "bBXZqQOiOz0G"
   },
   "source": [
    "# Normalize"
   ]
  },
  {
   "cell_type": "code",
   "execution_count": 14,
   "metadata": {
    "execution": {
     "iopub.execute_input": "2023-04-10T23:52:56.403366Z",
     "iopub.status.busy": "2023-04-10T23:52:56.402665Z",
     "iopub.status.idle": "2023-04-10T23:52:56.410913Z",
     "shell.execute_reply": "2023-04-10T23:52:56.409942Z",
     "shell.execute_reply.started": "2023-04-10T23:52:56.403329Z"
    },
    "id": "KvYt3n7xOz0H"
   },
   "outputs": [],
   "source": [
    "def normalize_arabic(text):\n",
    "    text = re.sub(\"[إأآا]\", \"ا\", text)\n",
    "    text = re.sub(\"ى\", \"ي\", text)\n",
    "    text = re.sub(\"ة\", \"ه\", text)\n",
    "    text = re.sub(\"گ\", \"ك\", text)\n",
    "    return text"
   ]
  },
  {
   "cell_type": "markdown",
   "metadata": {
    "id": "6TmFm_ygOz0I"
   },
   "source": [
    "# Remove repetitions"
   ]
  },
  {
   "cell_type": "code",
   "execution_count": 15,
   "metadata": {
    "execution": {
     "iopub.execute_input": "2023-04-10T23:52:56.412982Z",
     "iopub.status.busy": "2023-04-10T23:52:56.412565Z",
     "iopub.status.idle": "2023-04-10T23:52:56.421295Z",
     "shell.execute_reply": "2023-04-10T23:52:56.420351Z",
     "shell.execute_reply.started": "2023-04-10T23:52:56.412917Z"
    },
    "id": "BOD64LPjOz0J"
   },
   "outputs": [],
   "source": [
    "def remove_repeating_char(text):\n",
    "    return re.sub(r'(.)\\1+', r'\\1', text)"
   ]
  },
  {
   "cell_type": "code",
   "execution_count": 16,
   "metadata": {
    "execution": {
     "iopub.execute_input": "2023-04-10T23:52:56.425333Z",
     "iopub.status.busy": "2023-04-10T23:52:56.424666Z",
     "iopub.status.idle": "2023-04-10T23:53:45.462846Z",
     "shell.execute_reply": "2023-04-10T23:53:45.461731Z",
     "shell.execute_reply.started": "2023-04-10T23:52:56.425298Z"
    },
    "id": "PB0ZNiQeOz0K",
    "outputId": "2591ef0f-cd80-4ffd-a3d0-1736131fc426"
   },
   "outputs": [
    {
     "data": {
      "text/html": [
       "<div>\n",
       "<style scoped>\n",
       "    .dataframe tbody tr th:only-of-type {\n",
       "        vertical-align: middle;\n",
       "    }\n",
       "\n",
       "    .dataframe tbody tr th {\n",
       "        vertical-align: top;\n",
       "    }\n",
       "\n",
       "    .dataframe thead th {\n",
       "        text-align: right;\n",
       "    }\n",
       "</style>\n",
       "<table border=\"1\" class=\"dataframe\">\n",
       "  <thead>\n",
       "    <tr style=\"text-align: right;\">\n",
       "      <th></th>\n",
       "      <th>text</th>\n",
       "    </tr>\n",
       "  </thead>\n",
       "  <tbody>\n",
       "    <tr>\n",
       "      <th>0</th>\n",
       "      <td>بين استوديوهات ورزازات وصحراء مرزوكه واثار ولي...</td>\n",
       "    </tr>\n",
       "    <tr>\n",
       "      <th>1</th>\n",
       "      <td>قرت النجمه الامريكيه اوبرا وينفري الا يقتصر عم...</td>\n",
       "    </tr>\n",
       "    <tr>\n",
       "      <th>2</th>\n",
       "      <td>اخبارنا المغربيه الوزاني تصوير الشملالي الهب ا...</td>\n",
       "    </tr>\n",
       "    <tr>\n",
       "      <th>3</th>\n",
       "      <td>اخبارنا المغربيه قال ابراهيم الراشدي محامي سعد...</td>\n",
       "    </tr>\n",
       "    <tr>\n",
       "      <th>4</th>\n",
       "      <td>تزال صناعه الجلود في المغرب تبع الطريقه التقلي...</td>\n",
       "    </tr>\n",
       "    <tr>\n",
       "      <th>...</th>\n",
       "      <td>...</td>\n",
       "    </tr>\n",
       "    <tr>\n",
       "      <th>111723</th>\n",
       "      <td>اعب تاخر في العوده الي التداريب والمدرب غاضب و...</td>\n",
       "    </tr>\n",
       "    <tr>\n",
       "      <th>111724</th>\n",
       "      <td>مشرف العام لحسنيه اكادير قال انه سيغادر الفريق...</td>\n",
       "    </tr>\n",
       "    <tr>\n",
       "      <th>111725</th>\n",
       "      <td>نسب اليه نتائج الوداد وصحوه الرجاء واخر صيحاته...</td>\n",
       "    </tr>\n",
       "    <tr>\n",
       "      <th>111726</th>\n",
       "      <td>ستحتضن الرباط في الفتره مابين يوليوز المقبل دو...</td>\n",
       "    </tr>\n",
       "    <tr>\n",
       "      <th>111727</th>\n",
       "      <td>رضخ احمد اهمو رئيس امل تيزنيت لكره القدم لضغوط...</td>\n",
       "    </tr>\n",
       "  </tbody>\n",
       "</table>\n",
       "<p>108789 rows × 1 columns</p>\n",
       "</div>"
      ],
      "text/plain": [
       "                                                     text\n",
       "0       بين استوديوهات ورزازات وصحراء مرزوكه واثار ولي...\n",
       "1       قرت النجمه الامريكيه اوبرا وينفري الا يقتصر عم...\n",
       "2       اخبارنا المغربيه الوزاني تصوير الشملالي الهب ا...\n",
       "3       اخبارنا المغربيه قال ابراهيم الراشدي محامي سعد...\n",
       "4       تزال صناعه الجلود في المغرب تبع الطريقه التقلي...\n",
       "...                                                   ...\n",
       "111723  اعب تاخر في العوده الي التداريب والمدرب غاضب و...\n",
       "111724  مشرف العام لحسنيه اكادير قال انه سيغادر الفريق...\n",
       "111725  نسب اليه نتائج الوداد وصحوه الرجاء واخر صيحاته...\n",
       "111726  ستحتضن الرباط في الفتره مابين يوليوز المقبل دو...\n",
       "111727  رضخ احمد اهمو رئيس امل تيزنيت لكره القدم لضغوط...\n",
       "\n",
       "[108789 rows x 1 columns]"
      ]
     },
     "execution_count": 16,
     "metadata": {},
     "output_type": "execute_result"
    }
   ],
   "source": [
    "def processDocument(doc, stemmer): \n",
    "\n",
    "    #Replace @username with empty string\n",
    "    doc = re.sub(r'@[^\\s]+', ' ', doc)\n",
    "    doc = re.sub(r'_', ' ', doc)\n",
    "    doc = re.sub(r'\\n', ' ', doc)\n",
    "    doc = re.sub(r'[a-z,A-Z]', '', doc)\n",
    "    doc = re.sub(r'\\d', '', doc)\n",
    "    #Convert www.* or https?://* to \" \"\n",
    "    doc = re.sub('((www\\.[^\\s]+)|(https?://[^\\s]+))',' ',doc)\n",
    "    #Replace #word with word\n",
    "    doc = re.sub(r'#([^\\s]+)', r'\\1', doc)\n",
    "    # remove punctuations\n",
    "    doc= remove_punctuations(doc)\n",
    "    # normalize the tweet\n",
    "    doc= normalize_arabic(doc)\n",
    "    # remove repeated letters\n",
    "    doc=remove_repeating_char(doc)\n",
    "    #stemming\n",
    "    doc = stemmer.stem(doc)\n",
    "    \n",
    "    return doc\n",
    "\n",
    "stemmer = ISRIStemmer()\n",
    "clean_df[\"text\"] = clean_df['text'].apply(lambda x: processDocument(x, stemmer))\n",
    "clean_df"
   ]
  },
  {
   "cell_type": "code",
   "execution_count": 17,
   "metadata": {
    "execution": {
     "iopub.execute_input": "2023-04-10T23:53:45.464871Z",
     "iopub.status.busy": "2023-04-10T23:53:45.464511Z",
     "iopub.status.idle": "2023-04-10T23:53:54.554111Z",
     "shell.execute_reply": "2023-04-10T23:53:54.552965Z",
     "shell.execute_reply.started": "2023-04-10T23:53:45.464835Z"
    },
    "id": "B32qu87oOz0N",
    "outputId": "db7c91fa-675d-4059-ce5c-0c34f2e7e13d"
   },
   "outputs": [
    {
     "data": {
      "text/html": [
       "<div>\n",
       "<style scoped>\n",
       "    .dataframe tbody tr th:only-of-type {\n",
       "        vertical-align: middle;\n",
       "    }\n",
       "\n",
       "    .dataframe tbody tr th {\n",
       "        vertical-align: top;\n",
       "    }\n",
       "\n",
       "    .dataframe thead th {\n",
       "        text-align: right;\n",
       "    }\n",
       "</style>\n",
       "<table border=\"1\" class=\"dataframe\">\n",
       "  <thead>\n",
       "    <tr style=\"text-align: right;\">\n",
       "      <th></th>\n",
       "      <th>text</th>\n",
       "    </tr>\n",
       "  </thead>\n",
       "  <tbody>\n",
       "    <tr>\n",
       "      <th>0</th>\n",
       "      <td>[بين, استوديوهات, ورزازات, وصحراء, مرزوكه, واث...</td>\n",
       "    </tr>\n",
       "    <tr>\n",
       "      <th>1</th>\n",
       "      <td>[قرت, النجمه, الامريكيه, اوبرا, وينفري, الا, ي...</td>\n",
       "    </tr>\n",
       "    <tr>\n",
       "      <th>2</th>\n",
       "      <td>[اخبارنا, المغربيه, الوزاني, تصوير, الشملالي, ...</td>\n",
       "    </tr>\n",
       "    <tr>\n",
       "      <th>3</th>\n",
       "      <td>[اخبارنا, المغربيه, قال, ابراهيم, الراشدي, محا...</td>\n",
       "    </tr>\n",
       "    <tr>\n",
       "      <th>4</th>\n",
       "      <td>[تزال, صناعه, الجلود, في, المغرب, تبع, الطريقه...</td>\n",
       "    </tr>\n",
       "    <tr>\n",
       "      <th>...</th>\n",
       "      <td>...</td>\n",
       "    </tr>\n",
       "    <tr>\n",
       "      <th>111723</th>\n",
       "      <td>[اعب, تاخر, في, العوده, الي, التداريب, والمدرب...</td>\n",
       "    </tr>\n",
       "    <tr>\n",
       "      <th>111724</th>\n",
       "      <td>[مشرف, العام, لحسنيه, اكادير, قال, انه, سيغادر...</td>\n",
       "    </tr>\n",
       "    <tr>\n",
       "      <th>111725</th>\n",
       "      <td>[نسب, اليه, نتائج, الوداد, وصحوه, الرجاء, واخر...</td>\n",
       "    </tr>\n",
       "    <tr>\n",
       "      <th>111726</th>\n",
       "      <td>[ستحتضن, الرباط, في, الفتره, مابين, يوليوز, ال...</td>\n",
       "    </tr>\n",
       "    <tr>\n",
       "      <th>111727</th>\n",
       "      <td>[رضخ, احمد, اهمو, رئيس, امل, تيزنيت, لكره, الق...</td>\n",
       "    </tr>\n",
       "  </tbody>\n",
       "</table>\n",
       "<p>108789 rows × 1 columns</p>\n",
       "</div>"
      ],
      "text/plain": [
       "                                                     text\n",
       "0       [بين, استوديوهات, ورزازات, وصحراء, مرزوكه, واث...\n",
       "1       [قرت, النجمه, الامريكيه, اوبرا, وينفري, الا, ي...\n",
       "2       [اخبارنا, المغربيه, الوزاني, تصوير, الشملالي, ...\n",
       "3       [اخبارنا, المغربيه, قال, ابراهيم, الراشدي, محا...\n",
       "4       [تزال, صناعه, الجلود, في, المغرب, تبع, الطريقه...\n",
       "...                                                   ...\n",
       "111723  [اعب, تاخر, في, العوده, الي, التداريب, والمدرب...\n",
       "111724  [مشرف, العام, لحسنيه, اكادير, قال, انه, سيغادر...\n",
       "111725  [نسب, اليه, نتائج, الوداد, وصحوه, الرجاء, واخر...\n",
       "111726  [ستحتضن, الرباط, في, الفتره, مابين, يوليوز, ال...\n",
       "111727  [رضخ, احمد, اهمو, رئيس, امل, تيزنيت, لكره, الق...\n",
       "\n",
       "[108789 rows x 1 columns]"
      ]
     },
     "execution_count": 17,
     "metadata": {},
     "output_type": "execute_result"
    }
   ],
   "source": [
    "tokenizer = RegexpTokenizer(r'\\w+')\n",
    "clean_df[\"text\"] = clean_df[\"text\"].apply(tokenizer.tokenize)\n",
    "# print(clean_df['text'].values[0])\n",
    "clean_df"
   ]
  },
  {
   "cell_type": "code",
   "execution_count": 18,
   "metadata": {
    "execution": {
     "iopub.execute_input": "2023-04-10T23:53:54.556192Z",
     "iopub.status.busy": "2023-04-10T23:53:54.555811Z",
     "iopub.status.idle": "2023-04-10T23:53:54.565658Z",
     "shell.execute_reply": "2023-04-10T23:53:54.564511Z",
     "shell.execute_reply.started": "2023-04-10T23:53:54.556156Z"
    },
    "id": "YzaxmXbiOz0Q",
    "outputId": "ce393a2d-b3eb-4002-8f5e-1bace13dd4e3"
   },
   "outputs": [
    {
     "name": "stdout",
     "output_type": "stream",
     "text": [
      "إذ إذا إذما إذن أف أقل أكثر ألا إلا التي الذي الذين اللاتي اللائي اللتان اللتيا اللتين اللذان اللذين اللواتي إلى إليك إليكم إليكما إليكن أم أما أما إما أن إن إنا أنا أنت أنتم أنتما أنتن إنما إنه أنى أنى آه آها أو أولاء أولئك أوه آي أي أيها إي أين أين أينما إيه بخ بس بعد بعض بك بكم بكم بكما بكن بل بلى بما بماذا بمن بنا به بها بهم بهما بهن بي بين بيد تلك تلكم تلكما ته تي تين تينك ثم ثمة حاشا حبذا حتى حيث حيثما حين خلا دون ذا ذات ذاك ذان ذانك ذلك ذلكم ذلكما ذلكن ذه ذو ذوا ذواتا ذواتي ذي ذين ذينك ريث سوف سوى شتان عدا عسى عل على عليك عليه عما عن عند غير فإذا فإن فلا فمن في فيم فيما فيه فيها قد كأن كأنما كأي كأين كذا كذلك كل كلا كلاهما كلتا كلما كليكما كليهما كم كم كما كي كيت كيف كيفما لا لاسيما لدى لست لستم لستما لستن لسن لسنا لعل لك لكم لكما لكن لكنما لكي لكيلا لم لما لن لنا له لها لهم لهما لهن لو لولا لوما لي لئن ليت ليس ليسا ليست ليستا ليسوا ما ماذا متى مذ مع مما ممن من منه منها منذ مه مهما نحن نحو نعم ها هاتان هاته هاتي هاتين هاك هاهنا هذا هذان هذه هذي هذين هكذا هل هلا هم هما هن هنا هناك هنالك هو هؤلاء هي هيا هيت هيهات والذي والذين وإذ وإذا وإن ولا ولكن ولو وما ومن وهو يا أبٌ أخٌ حمٌ فو أنتِ يناير فبراير مارس أبريل مايو يونيو يوليو أغسطس سبتمبر أكتوبر نوفمبر ديسمبر جانفي فيفري مارس أفريل ماي جوان جويلية أوت كانون شباط آذار نيسان أيار حزيران تموز آب أيلول تشرين دولار دينار ريال درهم ليرة جنيه قرش مليم فلس هللة سنتيم يورو ين يوان شيكل واحد اثنان ثلاثة أربعة خمسة ستة سبعة ثمانية تسعة عشرة أحد اثنا اثني إحدى ثلاث أربع خمس ست سبع ثماني تسع عشر ثمان سبت أحد اثنين ثلاثاء أربعاء خميس جمعة أول ثان ثاني ثالث رابع خامس سادس سابع ثامن تاسع عاشر حادي أ ب ت ث ج ح خ د ذ ر ز س ش ص ض ط ظ ع غ ف ق ك ل م ن ه و ي ء ى آ ؤ ئ أ ة ألف باء تاء ثاء جيم حاء خاء دال ذال راء زاي سين شين صاد ضاد طاء ظاء عين غين فاء قاف كاف لام ميم نون هاء واو ياء همزة ي نا ك كن ه إياه إياها إياهما إياهم إياهن إياك إياكما إياكم إياك إياكن إياي إيانا أولالك تانِ تانِك تِه تِي تَيْنِ ثمّ ثمّة ذانِ ذِه ذِي ذَيْنِ هَؤلاء هَاتانِ هَاتِه هَاتِي هَاتَيْنِ هَذا هَذانِ هَذِه هَذِي هَذَيْنِ الألى الألاء أل أنّى أيّ ّأيّان أنّى أيّ ّأيّان ذيت كأيّ كأيّن بضع فلان وا آمينَ آهِ آهٍ آهاً أُفٍّ أُفٍّ أفٍّ أمامك أمامكَ أوّهْ إلَيْكَ إلَيْكَ إليكَ إليكنّ إيهٍ بخٍ بسّ بَسْ بطآن بَلْهَ حاي حَذارِ حيَّ حيَّ دونك رويدك سرعان شتانَ شَتَّانَ صهْ صهٍ طاق طَق عَدَسْ كِخ مكانَك مكانَك مكانَك مكانكم مكانكما مكانكنّ نَخْ هاكَ هَجْ هلم هيّا هَيْهات وا واهاً وراءَك وُشْكَانَ وَيْ يفعلان تفعلان يفعلون تفعلون تفعلين اتخذ ألفى تخذ ترك تعلَّم جعل حجا حبيب خال حسب خال درى رأى زعم صبر ظنَّ عدَّ علم غادر ذهب وجد ورد وهب أسكن أطعم أعطى رزق زود سقى كسا أخبر أرى أعلم أنبأ حدَث خبَّر نبَّا أفعل به ما أفعله بئس ساء طالما قلما لات لكنَّ ءَ أجل إذاً أمّا إمّا إنَّ أنًّ أى إى أيا ب ثمَّ جلل جير رُبَّ س علًّ ف كأنّ كلَّا كى ل لات لعلَّ لكنَّ لكنَّ م نَّ هلّا وا أل إلّا ت ك لمّا ن ه و ا ي تجاه تلقاء جميع حسب سبحان شبه لعمر مثل معاذ أبو أخو حمو فو مئة مئتان ثلاثمئة أربعمئة خمسمئة ستمئة سبعمئة ثمنمئة تسعمئة مائة ثلاثمائة أربعمائة خمسمائة ستمائة سبعمائة ثمانمئة تسعمائة عشرون ثلاثون اربعون خمسون ستون سبعون ثمانون تسعون عشرين ثلاثين اربعين خمسين ستين سبعين ثمانين تسعين بضع نيف أجمع جميع عامة عين نفس لا سيما أصلا أهلا أيضا بؤسا بعدا بغتة تعسا حقا حمدا خلافا خاصة دواليك سحقا سرا سمعا صبرا صدقا صراحة طرا عجبا عيانا غالبا فرادى فضلا قاطبة كثيرا لبيك معاذ أبدا إزاء أصلا الآن أمد أمس آنفا آناء أنّى أول أيّان تارة ثمّ ثمّة حقا صباح مساء ضحوة عوض غدا غداة قطّ كلّما لدن لمّا مرّة قبل خلف أمام فوق تحت يمين شمال ارتدّ استحال أصبح أضحى آض أمسى انقلب بات تبدّل تحوّل حار رجع راح صار ظلّ عاد غدا كان ما انفك ما برح مادام مازال مافتئ ابتدأ أخذ اخلولق أقبل انبرى أنشأ أوشك جعل حرى شرع طفق علق قام كرب كاد هبّ\n"
     ]
    }
   ],
   "source": [
    "stopwords_list = stopwords.words('arabic')\n",
    "listToStr = ' '.join([str(elem) for elem in stopwords_list]) \n",
    "print(listToStr)"
   ]
  },
  {
   "cell_type": "code",
   "execution_count": 20,
   "metadata": {
    "execution": {
     "iopub.execute_input": "2023-04-10T23:53:54.577790Z",
     "iopub.status.busy": "2023-04-10T23:53:54.576707Z",
     "iopub.status.idle": "2023-04-10T23:58:40.822832Z",
     "shell.execute_reply": "2023-04-10T23:58:40.821743Z",
     "shell.execute_reply.started": "2023-04-10T23:53:54.577736Z"
    },
    "id": "Vqx2ndWWOz0T",
    "outputId": "b39d21a0-e67e-4e64-a0fe-b9f42f571f90"
   },
   "outputs": [
    {
     "data": {
      "text/html": [
       "<div>\n",
       "<style scoped>\n",
       "    .dataframe tbody tr th:only-of-type {\n",
       "        vertical-align: middle;\n",
       "    }\n",
       "\n",
       "    .dataframe tbody tr th {\n",
       "        vertical-align: top;\n",
       "    }\n",
       "\n",
       "    .dataframe thead th {\n",
       "        text-align: right;\n",
       "    }\n",
       "</style>\n",
       "<table border=\"1\" class=\"dataframe\">\n",
       "  <thead>\n",
       "    <tr style=\"text-align: right;\">\n",
       "      <th></th>\n",
       "      <th>text</th>\n",
       "    </tr>\n",
       "  </thead>\n",
       "  <tbody>\n",
       "    <tr>\n",
       "      <th>0</th>\n",
       "      <td>[استوديوهات, ورزازات, وصحراء, مرزوكه, واثار, و...</td>\n",
       "    </tr>\n",
       "    <tr>\n",
       "      <th>1</th>\n",
       "      <td>[قرت, النجمه, الامريكيه, اوبرا, وينفري, الا, ي...</td>\n",
       "    </tr>\n",
       "    <tr>\n",
       "      <th>2</th>\n",
       "      <td>[اخبارنا, المغربيه, الوزاني, تصوير, الشملالي, ...</td>\n",
       "    </tr>\n",
       "    <tr>\n",
       "      <th>3</th>\n",
       "      <td>[اخبارنا, المغربيه, قال, ابراهيم, الراشدي, محا...</td>\n",
       "    </tr>\n",
       "    <tr>\n",
       "      <th>4</th>\n",
       "      <td>[تزال, صناعه, الجلود, المغرب, تبع, الطريقه, ال...</td>\n",
       "    </tr>\n",
       "    <tr>\n",
       "      <th>...</th>\n",
       "      <td>...</td>\n",
       "    </tr>\n",
       "    <tr>\n",
       "      <th>111723</th>\n",
       "      <td>[اعب, تاخر, العوده, الي, التداريب, والمدرب, غا...</td>\n",
       "    </tr>\n",
       "    <tr>\n",
       "      <th>111724</th>\n",
       "      <td>[مشرف, العام, لحسنيه, اكادير, قال, انه, سيغادر...</td>\n",
       "    </tr>\n",
       "    <tr>\n",
       "      <th>111725</th>\n",
       "      <td>[نسب, اليه, نتائج, الوداد, وصحوه, الرجاء, واخر...</td>\n",
       "    </tr>\n",
       "    <tr>\n",
       "      <th>111726</th>\n",
       "      <td>[ستحتضن, الرباط, الفتره, مابين, يوليوز, المقبل...</td>\n",
       "    </tr>\n",
       "    <tr>\n",
       "      <th>111727</th>\n",
       "      <td>[رضخ, احمد, اهمو, رئيس, امل, تيزنيت, لكره, الق...</td>\n",
       "    </tr>\n",
       "  </tbody>\n",
       "</table>\n",
       "<p>108789 rows × 1 columns</p>\n",
       "</div>"
      ],
      "text/plain": [
       "                                                     text\n",
       "0       [استوديوهات, ورزازات, وصحراء, مرزوكه, واثار, و...\n",
       "1       [قرت, النجمه, الامريكيه, اوبرا, وينفري, الا, ي...\n",
       "2       [اخبارنا, المغربيه, الوزاني, تصوير, الشملالي, ...\n",
       "3       [اخبارنا, المغربيه, قال, ابراهيم, الراشدي, محا...\n",
       "4       [تزال, صناعه, الجلود, المغرب, تبع, الطريقه, ال...\n",
       "...                                                   ...\n",
       "111723  [اعب, تاخر, العوده, الي, التداريب, والمدرب, غا...\n",
       "111724  [مشرف, العام, لحسنيه, اكادير, قال, انه, سيغادر...\n",
       "111725  [نسب, اليه, نتائج, الوداد, وصحوه, الرجاء, واخر...\n",
       "111726  [ستحتضن, الرباط, الفتره, مابين, يوليوز, المقبل...\n",
       "111727  [رضخ, احمد, اهمو, رئيس, امل, تيزنيت, لكره, الق...\n",
       "\n",
       "[108789 rows x 1 columns]"
      ]
     },
     "execution_count": 20,
     "metadata": {},
     "output_type": "execute_result"
    }
   ],
   "source": [
    "clean_df[\"text\"] = clean_df[\"text\"].apply(lambda x: [item for item in x if item not in stopwords_list])\n",
    "clean_df"
   ]
  },
  {
   "cell_type": "code",
   "execution_count": 21,
   "metadata": {
    "execution": {
     "iopub.execute_input": "2023-04-10T23:58:40.825383Z",
     "iopub.status.busy": "2023-04-10T23:58:40.824320Z",
     "iopub.status.idle": "2023-04-10T23:58:40.840301Z",
     "shell.execute_reply": "2023-04-10T23:58:40.838948Z",
     "shell.execute_reply.started": "2023-04-10T23:58:40.825340Z"
    }
   },
   "outputs": [
    {
     "data": {
      "text/html": [
       "<div>\n",
       "<style scoped>\n",
       "    .dataframe tbody tr th:only-of-type {\n",
       "        vertical-align: middle;\n",
       "    }\n",
       "\n",
       "    .dataframe tbody tr th {\n",
       "        vertical-align: top;\n",
       "    }\n",
       "\n",
       "    .dataframe thead th {\n",
       "        text-align: right;\n",
       "    }\n",
       "</style>\n",
       "<table border=\"1\" class=\"dataframe\">\n",
       "  <thead>\n",
       "    <tr style=\"text-align: right;\">\n",
       "      <th></th>\n",
       "      <th>text</th>\n",
       "    </tr>\n",
       "  </thead>\n",
       "  <tbody>\n",
       "    <tr>\n",
       "      <th>0</th>\n",
       "      <td>[استوديوهات, ورزازات, وصحراء, مرزوكه, واثار, و...</td>\n",
       "    </tr>\n",
       "    <tr>\n",
       "      <th>1</th>\n",
       "      <td>[قرت, النجمه, الامريكيه, اوبرا, وينفري, الا, ي...</td>\n",
       "    </tr>\n",
       "    <tr>\n",
       "      <th>2</th>\n",
       "      <td>[اخبارنا, المغربيه, الوزاني, تصوير, الشملالي, ...</td>\n",
       "    </tr>\n",
       "    <tr>\n",
       "      <th>3</th>\n",
       "      <td>[اخبارنا, المغربيه, قال, ابراهيم, الراشدي, محا...</td>\n",
       "    </tr>\n",
       "    <tr>\n",
       "      <th>4</th>\n",
       "      <td>[تزال, صناعه, الجلود, المغرب, تبع, الطريقه, ال...</td>\n",
       "    </tr>\n",
       "  </tbody>\n",
       "</table>\n",
       "</div>"
      ],
      "text/plain": [
       "                                                text\n",
       "0  [استوديوهات, ورزازات, وصحراء, مرزوكه, واثار, و...\n",
       "1  [قرت, النجمه, الامريكيه, اوبرا, وينفري, الا, ي...\n",
       "2  [اخبارنا, المغربيه, الوزاني, تصوير, الشملالي, ...\n",
       "3  [اخبارنا, المغربيه, قال, ابراهيم, الراشدي, محا...\n",
       "4  [تزال, صناعه, الجلود, المغرب, تبع, الطريقه, ال..."
      ]
     },
     "execution_count": 21,
     "metadata": {},
     "output_type": "execute_result"
    }
   ],
   "source": [
    "clean_df.head()"
   ]
  },
  {
   "cell_type": "code",
   "execution_count": 22,
   "metadata": {
    "execution": {
     "iopub.execute_input": "2023-04-10T23:58:40.843261Z",
     "iopub.status.busy": "2023-04-10T23:58:40.842104Z",
     "iopub.status.idle": "2023-04-10T23:58:56.123747Z",
     "shell.execute_reply": "2023-04-10T23:58:56.122625Z",
     "shell.execute_reply.started": "2023-04-10T23:58:40.843222Z"
    }
   },
   "outputs": [],
   "source": [
    "# Create inverted index\n",
    "index = {}\n",
    "for i, tokens in enumerate(clean_df['text']):\n",
    "    for j, token in enumerate(tokens):\n",
    "        if token not in index:\n",
    "            index[token] = []\n",
    "        index[token].append(i)\n",
    "        \n"
   ]
  },
  {
   "cell_type": "code",
   "execution_count": 23,
   "metadata": {
    "execution": {
     "iopub.execute_input": "2023-04-10T23:58:56.126315Z",
     "iopub.status.busy": "2023-04-10T23:58:56.125211Z",
     "iopub.status.idle": "2023-04-10T23:58:56.133916Z",
     "shell.execute_reply": "2023-04-10T23:58:56.132842Z",
     "shell.execute_reply.started": "2023-04-10T23:58:56.126274Z"
    }
   },
   "outputs": [],
   "source": [
    "def search(query):\n",
    "    query = query.lower()\n",
    "    query_tokens = [stemmer.stem(token) for token in query.split() if token not in stopwords_lis]\n",
    "    results = set(range(len(clean_df)))\n",
    "    for token in query_tokens:\n",
    "        if token in index:\n",
    "            results.intersection_update(index[token])\n",
    "    return [clean_df.iloc[i]['text'] for i in results]\n"
   ]
  },
  {
   "cell_type": "code",
   "execution_count": 33,
   "metadata": {
    "execution": {
     "iopub.execute_input": "2023-04-11T00:01:52.028483Z",
     "iopub.status.busy": "2023-04-11T00:01:52.027735Z",
     "iopub.status.idle": "2023-04-11T00:01:52.078466Z",
     "shell.execute_reply": "2023-04-11T00:01:52.076155Z",
     "shell.execute_reply.started": "2023-04-11T00:01:52.028422Z"
    }
   },
   "outputs": [
    {
     "name": "stdout",
     "output_type": "stream",
     "text": [
      "يات تويجها بلقب ملكه جمال ميس الكون دورته ال بمحض الصدفه فقد تمكنت زمن قياسي انتزاع حب اهل عروسه الشمال والمغاربه خلال بوابه ملكه جمال المغرب شغفت بعالم الموضه والازياء فساهمت موهبتها بشكل كبير اقتحام عالم الاناقه والجمال سن ال دردشه هسبريس تحدث جيهان سلامه ملكه جمال الكون لسنه تويجها بالقب ومشاريعها المستقبليه نفت جيهان سلامه ان تكون اجرت عمليه تجميليه لكنها ترفض الفكره ان تطلب الامر مستقبلا وقالت الصد ضد عمليات التجميل اذا تطلب الامر مستقبلا خلال تقويم الاسنان او شد الوجه اتراجع علي القيام بذلك واكدت الملكه انها تقبل بارتداء البيكيني اي مسابقه متعلقه بالجمال وقالت عائلتي تسمح بذلك وتربيتي واخلاقي ايضا واحرص دائما علي تقديم صوره مشرفه لمراه المغربيه حياتي تغيراعتبرت ملكه جمال الكون ان حياتها تغير الفوز بالقب لذلك تقول يمكن ان يتغير شيء حياتي انا اجتماعيه بطبعي وهذا الميزات جعلتني افوز بالقب واضافت الجمال وحده معيارا لظفر بالقب المستوي التعليمي يلعب دورا المسابقه وزادت المسابقه كانت تضم مشاركات بقاع العالم يميزني التواصل الراي العام سواء بالغه العربيه او الانجليزيه او الفرنسيه او الاسبانيه الي جانب طبعي الاجتماعي وحول مشاريعها المستقبليه كشفت ملكه جمال الكون انه تم اختيارها عضوا لجنه تحكيم مسابقه ستقام بالجزائر الي جانب الانخراط جمعيات لمجتمع المدني اجل مشاريع خيريه حلم طفوليابنه عروسه الشمال طنجه اولعت بعالم الاناقه صغرها واقتحمته سن ال خلال المشاركه اول عرض ازياء لقفطان المغربي لتخوض غمار المنافسه لقب ملكه جمال المغرب واستطاعت ان تنتزع لقب ملكه جمال الكون سن ال جيهان اوضحت ان مشاركتها مسابقه ملكه جمال الكون تكن ضمن برنامجها لهذه السنه وقالت حديثها لهسبريس كنت منشغله بمتابعه دراستي مجال التسير الاداري ولم اخط لمشاركه مسابقه دوليه النوع الا باقتراح احدي صديقاتي شجعتني علي وسعيده لاني رفعت رايه المغرب احدي المسابقات العالم وحول حلمها بالتويج ملكه جمال الكون تقول حلم التويج بلقب الملكه حلم كبر معي ومنذ صغري اسمي يرتبط بمجال الموضه والاناقه طرف صديقاتي وعائلتي دعم عائلياكدت ملكه جمال الكون ان دعم عائلتها وراء النجاح حقته وقالت يمكن ان تقف عائلتي امام مشاركتي مسابقه تظهر المراه المغربيه صوره مشرفه وتابعت حديثها وصلت اليه اليوم يعود الفضل الكبير لعائلتي اهتمت بدراستي لان القب يرتبط بالجمال وحده وحول نجاحها التوفيق الدراسه والموضه تقول تنظيم الوقت الوصفه السحريه لاي نجاح اسعي دائما الي تنظيم وقت الدراسه ومجال الاناقه وعروض الازياء ضد البيكي \n",
      "\n",
      "اشترطت الجامعه علي الانديه توفير ملاعب رياضيه تستجيب لمعاير السلامه تشكل خطرا علي الاعبين والحكام لكنها تفعل علي ارض الواقع اذ ان عده ملاعب تحترم شروط السلامه يتجاوز علو السياج الحديدي بملعب الفتح مثلا مترين الوقت تطالب الجامعه بان يصل علو السياج الي مترين ونصف متر تم اعتماده الملاعب المكسوه بالعشب الاصطناعي الجديده الشيء دفع مسؤولي مجلس مدينه سلا الي بناء سياج حديدي الملعب والمدرجات داخل ملعب بوبكر عمار وتؤكد الاحداث عرفها الملعب الشرفي بمكناس خلال مباراه النادي المكناسي امام جمعيه سلا اهميه احترام معاير السلامه داخل الملاعب الوطنيه اذ تمكن الجمهور اقتحام الملعب والاعتداء علي ثلاثه لاعبين النادي المكناسي الشان الموسم الماضي ملعب بوبكر عمار سجل اقتحامه عده مناسبات طرف الجمهور بسهوله ولولا الاجراءات الامنيه الصارمه لكان سبا دخول الجماهير الكثيره الي الملعب والهجوم علي الاعبين والحكام ان وجود الملاعب بالمدارات الحضريه وسط المدن اتساع المجال الحضر السنوات الاخيره اضحي يشكل خطرا علي سلامه المواطنين ومتلكاتهم الشيء يتطلب اعاده النظر العديد الملاعب ابرزها مركب محمد الخامس بالدار البيضاء يعرف اسبوعيا احتضان مباراه لاحد قطبي العاصمه الاقتصاديه الوداد اوالرجاء وكذلك الشان بالنسبه الي ملعب بوبكر عمار بسلا توالت الاحتجاجات المواطنين والامن بالنظر الي موقعه وسط حي اهل بالسكان وعلي مقربه المر الملكي وامام العديد المنشات الحيويه بالمدينه \n",
      "\n",
      "محترفه باولمبيك لمساكن لكره اليد قالت ان المغرب يفتقد برامج علي المستوي البعيد قالت المغربيه ليلي باغولا المحترفه باولمبيك التونسي لكره اليد انها تعتز باعتبارها اول اجنبيه تحترف الدوري التونسي مؤكدا انها تمنت توفرت بالمغرب ظروف المارسه نفسها المتوفره بتونس واضافت باغولا حوار الصباح الرياضي ان الحاجه ماسه الي وضع برامج علي المدي البعيد اجل الحاق بركب كره اليد العربيه تقدمه بلدن الجوار متمنيه ان تحظي الاعبات المغربيات بالدعم والمتابعه وفي يلي نص الحوار تم ولوجك عالم كره اليد تعلقي بكره اليد خلال مرحله الدراسه لاشارك سنه بطوله العالم لالعاب المدرسيه بالمجر احتضنها فريق اتحاد النواصر ان اتلقي عرضا فريق اولمبيك لمساكن التونسي لانتقل لعب رفقته بدايه الموسم الجاري جاء الارتباط بالفريق التونسي خلال بطوله افريقيا احتضنتها الرباط السنه الماضيه كنت خلالها رفقه المنتخب الوطني ورغم انا خسرنا امام المنتخب التونسي مقابل الا ان فتيات المنتخب الوطني حظين بالمتابعه يدل علي ان التونسين رؤيه خاصه كره اليد اذ تلقيت عروضا ثلاثه فرق وكان اولمبيك لمساكني سباقا لمفاوضتي فقبلت عرضه وبعد فتره مناقشات خضت خلالها التدريب تونس وقعت عقدا الفريق مده العقد كنت اود توقيع عقد لموسم ان مسؤولي الفريق تشبثوا بعقد لموسمين فوافقت شجع التونسين علي التعاقد معك خلال مشاركتي بطولات افريقيه رفقه اتحاد النواصر اكتسبت طابع النديه والقتاليه يعتبره عديدون علي انه عنف ان التونسين اعتبروه نقطه قوه لدي استعداد لتعلم اكثر والاصرار علي التالق وعزيمه اجل تطوير ادائي سيما انه تونس اذا وجدت لاعبه تجيد الهجوم تجدها ضعيفه علي مستوي الدفاع واذا اجادت التسديد امتار فانها تقن التوغل تاقلمت الاجواء داخل فريقك الجديد كنت اعلم اني بصد دخول تحد جديد الكل يتساءل تكون الاعبه القادمه المغرب المتواضع المستوي كره اليد اني اثبث ذاتي الحمد رغم ان التركيبه البشريه لفريق غنيه كسبت رسميتي وقدمت الاضافه الي الفريق ينقص لتحقيق ظروف المارسه نفسها بالمغرب اعتقد انه يجب ان نتحلي بالصبر ونضع برامج علي المدي البعيد لان التونسين شرعوا العمل سنوات انا نبدا واظن ان منح الثقه لاعبات وعدم توقع نتائج انيه العمل المتواصل سيعطي اكله المستقبل وفي سنوات ستظهر بوادر ثمار العمل محترفات اخريات بالدوري التونسي انا اول مغربيه واجنبيه تلعب تونس اعتز اذ اظهر الفريق تشبثه وبذل رئيس الجامعه التونسيه مجهودا اجل ضمان التحاقي بالدوري التونسي اشكر محمد العمراني رئيس جامعه كره اليد المغربيه بدونه حلمي سيتحق اذ سهل ماموريه التحاقي بالفريق التونسي الفرق البلدين التعويضات الماديه انا اطرح السؤال توجد تعويضات اصلا الدوري المغربي اني اتلقي راتبا شهريا بتونس تامين النقل والسكن ومنح المباريات يهيء الفريق الظروف تساعد الاعبات نفسيا علي الظهور بوجه جيد طموحك الشخصي البدايه اعرف مستواي مقارنه التونسيات وتوقعت ان يكون اقل لذا كنت عازمه علي العمل والظهور بشكل جيد والحمد اثبت وقت وجيز اني اهل لثقه وضعت زاد طموحي التطلع الي التجربه التونسيه قنطره لبلوغ الدوريات الاوربيه واسخر تجربتي لخدمه المنتخب الوطني اتمني ان يمنح فرصه التجمع والمشاركه التظاهرات سيما ان المغربيات خصائص الاعبات الجيدات فقط تنقصهن المتابعه والاهتمام المعنوي والمادي علي غرار جيرانا سبقونا اجري الحوار عادل بلقاضي مراكش \n",
      "\n",
      "علي ايقاعات الموسيقي الحسانيه دشنت الخطوط الملكيه المغربيه وكالتها الجديده بمدينه الداخله تستجيب لمعاير الجوده وتمتع بنظام معلوماتي متطور يوفر لمستخدمين الظروف الامثل لخدمه الزبناء تماشي افضل المعاير الدوليه واستقبل اهل الداخله ضيوفها بالبن والتمر وفقا لعادات وتقاليد اهل الصحراء المغربيه حفل تدشين وكاله لارام الجديده وقال عثمان بكاري مدير قطب الزبناء بالخطوط الملكيه المغربيه ان اعاده تهيئه وكاله الداخله يندرج اطار سياسه المؤسه تجعل الزبون محورها الاساسي والاقتراب اكثر الزبناء وتوفير حلول فعاله لاحتياجاتهم واسترسل المسؤول الاداري تصريح لهسبريس بان مدينه الداخله والاقاليم الجنوبيه تعد الجهات المهمه سياستنا اجل تشجيع السياحه الداخليه المغربيه مبرزا ان الشركه عملت علي رفع عد رحلاتها الدار البيضاء الي مدينه الداخله السياق ذاته ابرز عبد الحميد عدو الرئيس المدير العام لخطوط الملكيه المغربيه ان تهيئه وكاله الداخله الجديده تعد جزءا برنامج الشركه الرامي الي تطوير الاقاليم الجنوبيه خلال خلق ربط جوي اكبر وانشاء نقط بيع حديثه خدمه المواطنين الفاعله الجمعويه فاطمه الزهراء بودركه ورئيسه جمعيه عدل الخير اعتبرت تصريح ماثل ان تدشين الوكاله الجديده لداخله والرفع نسبه رحلاتها ستساهم تسهيل التنقل المدنتين خاصه ان المنطقه اضحت تعرف اقبالا كبيرا طرف السياح المغاربه والاجانب وتقدم الشركه رحله اسبوعيه تربط المدينه بثلاثه مطارات الملكه وهي الدار البيضاء تردات اكادير تردات والعيون تردات وسيتم تعزيز الخط الجوي الدار البيضاء والداخله بتردين اسبوعين اضافين انطلاقا شتنبر المقبل \n",
      "\n",
      "علقت فاطيمه فايز ملكه جمال المغرب رد علي الهجوم تعرضت عقب انعقاد المؤتمر الصحفي بنقابه الصحفين قائله عقدت المؤتمر الصحفي بدعوه الكاتب الصحفي مصطفي الطهطاوي رئيس المؤتمر وكان الغرض مناقشه كتاب حياتي وسفرياتي واحتكاكي بحضارات اخري وايض مناقشه دور المراه مساعده اليتامي والمحتاجين واضافت تصريح صدي البلد واثناء المؤتمر الصحفي سالني احد الصحفين لاي منطقه المغرب انتمي فاجبت ريف المغرب وهي مصر شبيه بمنطقه الصعيد اهل صعيد مصر فسالني اذا تقدم صعيدي اقبله كزوج فاجبته باذن اله فاذا اراد اله ان اتزوج بصعيدي او اي شخص اخر فهذا القدر ولست انا اتحكم بالقدر سالني رايك المصرين فاجبته بان المصرين طيبون رائعون واخوتنا ونحن نحبهم وتابعت وفوجئت بعدها بوجود فيديو منشور علي احد المواقع الالكترونيه يفيد باني مصر اجل اقامه علاقات عاطفيه وهذا فيديو مفبرك اساس الصحه فانا ابنه الريف وبنات الريف حفيدات الزعيم عبد الكريم الخطابي زعيم معروف عنه العزه ونفتخر فانا افتخر بكوني انتمي لهذه المنطقه واختمت حديثها قائله واريد ايض التاكيد علي شيء اخر فانا مصر اجل التمثيل او الغناء ادعي البعض فانا اجل العمل الخيري واؤدي مهمتي علي احسن وجه فمنذ ان وطات قدماي ارض مصر وانا اتنقل جمعيه خيريه لاخري صدي البلد المصريه \n",
      "\n"
     ]
    }
   ],
   "source": [
    "results = search(\"الأهلي\")\n",
    "num_results = min(len(results), 5)  # Limit the number of results to 5 or the total number of results, whichever is smaller\n",
    "\n",
    "for i in range(num_results):\n",
    "    result = ' '.join(results[i])\n",
    "    print(result ,\"\\n\")"
   ]
  },
  {
   "cell_type": "code",
   "execution_count": null,
   "metadata": {},
   "outputs": [],
   "source": []
  }
 ],
 "metadata": {
  "kernelspec": {
   "display_name": "Python 3 (ipykernel)",
   "language": "python",
   "name": "python3"
  },
  "language_info": {
   "codemirror_mode": {
    "name": "ipython",
    "version": 3
   },
   "file_extension": ".py",
   "mimetype": "text/x-python",
   "name": "python",
   "nbconvert_exporter": "python",
   "pygments_lexer": "ipython3",
   "version": "3.10.6"
  }
 },
 "nbformat": 4,
 "nbformat_minor": 4
}
